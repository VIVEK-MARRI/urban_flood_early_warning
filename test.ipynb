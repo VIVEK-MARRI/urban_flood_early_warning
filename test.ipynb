{
 "cells": [
  {
   "cell_type": "code",
   "execution_count": 4,
   "id": "70f1aa6f",
   "metadata": {},
   "outputs": [
    {
     "name": "stdout",
     "output_type": "stream",
     "text": [
      "[[0.03 0.97]]\n"
     ]
    },
    {
     "name": "stderr",
     "output_type": "stream",
     "text": [
      "c:\\Users\\vivek\\anaconda3\\envs\\urban_flood\\Lib\\site-packages\\sklearn\\utils\\validation.py:2749: UserWarning: X does not have valid feature names, but RandomForestClassifier was fitted with feature names\n",
      "  warnings.warn(\n"
     ]
    }
   ],
   "source": [
    "import joblib\n",
    "model = joblib.load(\"models/optimized_rf_model.pkl\")\n",
    "print(model.predict_proba([[27.99,92.23,980.93,9.45,26.84,72.97,23.66,133.89,8.4,3.97,20.29,5,30,1,20,10,2025]]))\n"
   ]
  },
  {
   "cell_type": "code",
   "execution_count": 7,
   "id": "5da81871",
   "metadata": {},
   "outputs": [
    {
     "name": "stdout",
     "output_type": "stream",
     "text": [
      "200\n",
      "{'flood_risk': 0, 'flood_probability': 0.0}\n",
      "200\n",
      "{'flood_risk': 0, 'flood_probability': 0.0}\n"
     ]
    }
   ],
   "source": [
    "import requests\n",
    "\n",
    "API_URL = \"http://127.0.0.1:8000/predict_flood\"\n",
    "\n",
    "sample = {\n",
    "    \"temp\": 25.0,\n",
    "    \"humidity\": 80,\n",
    "    \"pressure\": 101.3,\n",
    "    \"wind_speed\": 5\n",
    "}\n",
    "\n",
    "response = requests.post(API_URL, json=sample)\n",
    "print(response.status_code)\n",
    "print(response.json())\n",
    "\n",
    "\n",
    "sample_full = {\n",
    "    \"temp\": 25.0,\n",
    "    \"humidity\": 80,\n",
    "    \"pressure\": 101.3,\n",
    "    \"wind_speed\": 5,\n",
    "    \"temp_delta\": 0.5,\n",
    "    \"humidity_delta\": 1,\n",
    "    \"hour\": 14,\n",
    "    \"minute\": 0,\n",
    "    \"second\": 0,\n",
    "    \"day\": 20,\n",
    "    \"month\": 10,\n",
    "    \"year\": 2025,\n",
    "    \"rain_1h\": 0,\n",
    "    \"rain_3h\": 0,\n",
    "    \"rain_6h\": 0,\n",
    "    \"rain_24h\": 0,\n",
    "    \"rain_intensity\": 0\n",
    "}\n",
    "\n",
    "response = requests.post(API_URL, json=sample_full)\n",
    "print(response.status_code)\n",
    "print(response.json())\n",
    "\n"
   ]
  },
  {
   "cell_type": "code",
   "execution_count": 6,
   "id": "852ff9eb",
   "metadata": {},
   "outputs": [
    {
     "name": "stdout",
     "output_type": "stream",
     "text": [
      "200 {'flood_risk': 0, 'flood_probability': 0.0}\n"
     ]
    }
   ],
   "source": [
    "import requests\n",
    "\n",
    "API_URL = \"http://127.0.0.1:8000/predict_flood\"\n",
    "\n",
    "sample = {\n",
    "    \"lat\": 17.3850,  # Hyderabad latitude\n",
    "    \"lon\": 78.4867,  # Hyderabad longitude\n",
    "}\n",
    "\n",
    "r = requests.post(API_URL, json=sample)\n",
    "print(r.status_code, r.json())\n"
   ]
  },
  {
   "cell_type": "code",
   "execution_count": 5,
   "id": "ab3262c5",
   "metadata": {},
   "outputs": [
    {
     "ename": "ValueError",
     "evalue": "The feature names should match those that were passed during fit.\nFeature names unseen at fit time:\n- rain_1h\n- rain_24h\n- rain_3h\n- rain_6h\n- rain_intensity\n",
     "output_type": "error",
     "traceback": [
      "\u001b[31m---------------------------------------------------------------------------\u001b[39m",
      "\u001b[31mValueError\u001b[39m                                Traceback (most recent call last)",
      "\u001b[36mCell\u001b[39m\u001b[36m \u001b[39m\u001b[32mIn[5]\u001b[39m\u001b[32m, line 17\u001b[39m\n\u001b[32m      6\u001b[39m sample = pd.DataFrame([\n\u001b[32m      7\u001b[39m     {\u001b[33m\"\u001b[39m\u001b[33mtemp\u001b[39m\u001b[33m\"\u001b[39m: \u001b[32m27\u001b[39m, \u001b[33m\"\u001b[39m\u001b[33mhumidity\u001b[39m\u001b[33m\"\u001b[39m: \u001b[32m78\u001b[39m, \u001b[33m\"\u001b[39m\u001b[33mpressure\u001b[39m\u001b[33m\"\u001b[39m: \u001b[32m1008\u001b[39m, \u001b[33m\"\u001b[39m\u001b[33mwind_speed\u001b[39m\u001b[33m\"\u001b[39m: \u001b[32m8\u001b[39m,\n\u001b[32m      8\u001b[39m      \u001b[33m\"\u001b[39m\u001b[33mtemp_delta\u001b[39m\u001b[33m\"\u001b[39m: \u001b[32m0.5\u001b[39m, \u001b[33m\"\u001b[39m\u001b[33mhumidity_delta\u001b[39m\u001b[33m\"\u001b[39m: \u001b[32m1\u001b[39m, \u001b[33m\"\u001b[39m\u001b[33mhour\u001b[39m\u001b[33m\"\u001b[39m: \u001b[32m15\u001b[39m, \u001b[33m\"\u001b[39m\u001b[33mday\u001b[39m\u001b[33m\"\u001b[39m: \u001b[32m20\u001b[39m, \u001b[33m\"\u001b[39m\u001b[33mmonth\u001b[39m\u001b[33m\"\u001b[39m: \u001b[32m10\u001b[39m, \u001b[33m\"\u001b[39m\u001b[33myear\u001b[39m\u001b[33m\"\u001b[39m: \u001b[32m2025\u001b[39m,\n\u001b[32m   (...)\u001b[39m\u001b[32m     14\u001b[39m ]\n\u001b[32m     15\u001b[39m )\n\u001b[32m     16\u001b[39m sample = sample[features]\n\u001b[32m---> \u001b[39m\u001b[32m17\u001b[39m \u001b[38;5;28mprint\u001b[39m(\u001b[43mmodel\u001b[49m\u001b[43m.\u001b[49m\u001b[43mpredict\u001b[49m\u001b[43m(\u001b[49m\u001b[43msample\u001b[49m\u001b[43m)\u001b[49m)\n\u001b[32m     18\u001b[39m \u001b[38;5;28mprint\u001b[39m(model.predict_proba(sample))\n",
      "\u001b[36mFile \u001b[39m\u001b[32mc:\\Users\\vivek\\anaconda3\\envs\\urban_flood\\Lib\\site-packages\\sklearn\\calibration.py:537\u001b[39m, in \u001b[36mCalibratedClassifierCV.predict\u001b[39m\u001b[34m(self, X)\u001b[39m\n\u001b[32m    521\u001b[39m \u001b[38;5;250m\u001b[39m\u001b[33;03m\"\"\"Predict the target of new samples.\u001b[39;00m\n\u001b[32m    522\u001b[39m \n\u001b[32m    523\u001b[39m \u001b[33;03mThe predicted class is the class that has the highest probability,\u001b[39;00m\n\u001b[32m   (...)\u001b[39m\u001b[32m    534\u001b[39m \u001b[33;03m    The predicted class.\u001b[39;00m\n\u001b[32m    535\u001b[39m \u001b[33;03m\"\"\"\u001b[39;00m\n\u001b[32m    536\u001b[39m check_is_fitted(\u001b[38;5;28mself\u001b[39m)\n\u001b[32m--> \u001b[39m\u001b[32m537\u001b[39m \u001b[38;5;28;01mreturn\u001b[39;00m \u001b[38;5;28mself\u001b[39m.classes_[np.argmax(\u001b[38;5;28;43mself\u001b[39;49m\u001b[43m.\u001b[49m\u001b[43mpredict_proba\u001b[49m\u001b[43m(\u001b[49m\u001b[43mX\u001b[49m\u001b[43m)\u001b[49m, axis=\u001b[32m1\u001b[39m)]\n",
      "\u001b[36mFile \u001b[39m\u001b[32mc:\\Users\\vivek\\anaconda3\\envs\\urban_flood\\Lib\\site-packages\\sklearn\\calibration.py:513\u001b[39m, in \u001b[36mCalibratedClassifierCV.predict_proba\u001b[39m\u001b[34m(self, X)\u001b[39m\n\u001b[32m    511\u001b[39m mean_proba = np.zeros((_num_samples(X), \u001b[38;5;28mlen\u001b[39m(\u001b[38;5;28mself\u001b[39m.classes_)))\n\u001b[32m    512\u001b[39m \u001b[38;5;28;01mfor\u001b[39;00m calibrated_classifier \u001b[38;5;129;01min\u001b[39;00m \u001b[38;5;28mself\u001b[39m.calibrated_classifiers_:\n\u001b[32m--> \u001b[39m\u001b[32m513\u001b[39m     proba = \u001b[43mcalibrated_classifier\u001b[49m\u001b[43m.\u001b[49m\u001b[43mpredict_proba\u001b[49m\u001b[43m(\u001b[49m\u001b[43mX\u001b[49m\u001b[43m)\u001b[49m\n\u001b[32m    514\u001b[39m     mean_proba += proba\n\u001b[32m    516\u001b[39m mean_proba /= \u001b[38;5;28mlen\u001b[39m(\u001b[38;5;28mself\u001b[39m.calibrated_classifiers_)\n",
      "\u001b[36mFile \u001b[39m\u001b[32mc:\\Users\\vivek\\anaconda3\\envs\\urban_flood\\Lib\\site-packages\\sklearn\\calibration.py:743\u001b[39m, in \u001b[36m_CalibratedClassifier.predict_proba\u001b[39m\u001b[34m(self, X)\u001b[39m\n\u001b[32m    727\u001b[39m \u001b[38;5;28;01mdef\u001b[39;00m\u001b[38;5;250m \u001b[39m\u001b[34mpredict_proba\u001b[39m(\u001b[38;5;28mself\u001b[39m, X):\n\u001b[32m    728\u001b[39m \u001b[38;5;250m    \u001b[39m\u001b[33;03m\"\"\"Calculate calibrated probabilities.\u001b[39;00m\n\u001b[32m    729\u001b[39m \n\u001b[32m    730\u001b[39m \u001b[33;03m    Calculates classification calibrated probabilities\u001b[39;00m\n\u001b[32m   (...)\u001b[39m\u001b[32m    741\u001b[39m \u001b[33;03m        The predicted probabilities. Can be exact zeros.\u001b[39;00m\n\u001b[32m    742\u001b[39m \u001b[33;03m    \"\"\"\u001b[39;00m\n\u001b[32m--> \u001b[39m\u001b[32m743\u001b[39m     predictions, _ = \u001b[43m_get_response_values\u001b[49m\u001b[43m(\u001b[49m\n\u001b[32m    744\u001b[39m \u001b[43m        \u001b[49m\u001b[38;5;28;43mself\u001b[39;49m\u001b[43m.\u001b[49m\u001b[43mestimator\u001b[49m\u001b[43m,\u001b[49m\n\u001b[32m    745\u001b[39m \u001b[43m        \u001b[49m\u001b[43mX\u001b[49m\u001b[43m,\u001b[49m\n\u001b[32m    746\u001b[39m \u001b[43m        \u001b[49m\u001b[43mresponse_method\u001b[49m\u001b[43m=\u001b[49m\u001b[43m[\u001b[49m\u001b[33;43m\"\u001b[39;49m\u001b[33;43mdecision_function\u001b[39;49m\u001b[33;43m\"\u001b[39;49m\u001b[43m,\u001b[49m\u001b[43m \u001b[49m\u001b[33;43m\"\u001b[39;49m\u001b[33;43mpredict_proba\u001b[39;49m\u001b[33;43m\"\u001b[39;49m\u001b[43m]\u001b[49m\u001b[43m,\u001b[49m\n\u001b[32m    747\u001b[39m \u001b[43m    \u001b[49m\u001b[43m)\u001b[49m\n\u001b[32m    748\u001b[39m     \u001b[38;5;28;01mif\u001b[39;00m predictions.ndim == \u001b[32m1\u001b[39m:\n\u001b[32m    749\u001b[39m         \u001b[38;5;66;03m# Reshape binary output from `(n_samples,)` to `(n_samples, 1)`\u001b[39;00m\n\u001b[32m    750\u001b[39m         predictions = predictions.reshape(-\u001b[32m1\u001b[39m, \u001b[32m1\u001b[39m)\n",
      "\u001b[36mFile \u001b[39m\u001b[32mc:\\Users\\vivek\\anaconda3\\envs\\urban_flood\\Lib\\site-packages\\sklearn\\utils\\_response.py:214\u001b[39m, in \u001b[36m_get_response_values\u001b[39m\u001b[34m(estimator, X, response_method, pos_label, return_response_method_used)\u001b[39m\n\u001b[32m    211\u001b[39m     \u001b[38;5;28;01melif\u001b[39;00m pos_label \u001b[38;5;129;01mis\u001b[39;00m \u001b[38;5;28;01mNone\u001b[39;00m \u001b[38;5;129;01mand\u001b[39;00m target_type == \u001b[33m\"\u001b[39m\u001b[33mbinary\u001b[39m\u001b[33m\"\u001b[39m:\n\u001b[32m    212\u001b[39m         pos_label = classes[-\u001b[32m1\u001b[39m]\n\u001b[32m--> \u001b[39m\u001b[32m214\u001b[39m y_pred = \u001b[43mprediction_method\u001b[49m\u001b[43m(\u001b[49m\u001b[43mX\u001b[49m\u001b[43m)\u001b[49m\n\u001b[32m    216\u001b[39m \u001b[38;5;28;01mif\u001b[39;00m prediction_method.\u001b[34m__name__\u001b[39m \u001b[38;5;129;01min\u001b[39;00m (\u001b[33m\"\u001b[39m\u001b[33mpredict_proba\u001b[39m\u001b[33m\"\u001b[39m, \u001b[33m\"\u001b[39m\u001b[33mpredict_log_proba\u001b[39m\u001b[33m\"\u001b[39m):\n\u001b[32m    217\u001b[39m     y_pred = _process_predict_proba(\n\u001b[32m    218\u001b[39m         y_pred=y_pred,\n\u001b[32m    219\u001b[39m         target_type=target_type,\n\u001b[32m    220\u001b[39m         classes=classes,\n\u001b[32m    221\u001b[39m         pos_label=pos_label,\n\u001b[32m    222\u001b[39m     )\n",
      "\u001b[36mFile \u001b[39m\u001b[32mc:\\Users\\vivek\\anaconda3\\envs\\urban_flood\\Lib\\site-packages\\sklearn\\ensemble\\_forest.py:945\u001b[39m, in \u001b[36mForestClassifier.predict_proba\u001b[39m\u001b[34m(self, X)\u001b[39m\n\u001b[32m    943\u001b[39m check_is_fitted(\u001b[38;5;28mself\u001b[39m)\n\u001b[32m    944\u001b[39m \u001b[38;5;66;03m# Check data\u001b[39;00m\n\u001b[32m--> \u001b[39m\u001b[32m945\u001b[39m X = \u001b[38;5;28;43mself\u001b[39;49m\u001b[43m.\u001b[49m\u001b[43m_validate_X_predict\u001b[49m\u001b[43m(\u001b[49m\u001b[43mX\u001b[49m\u001b[43m)\u001b[49m\n\u001b[32m    947\u001b[39m \u001b[38;5;66;03m# Assign chunk of trees to jobs\u001b[39;00m\n\u001b[32m    948\u001b[39m n_jobs, _, _ = _partition_estimators(\u001b[38;5;28mself\u001b[39m.n_estimators, \u001b[38;5;28mself\u001b[39m.n_jobs)\n",
      "\u001b[36mFile \u001b[39m\u001b[32mc:\\Users\\vivek\\anaconda3\\envs\\urban_flood\\Lib\\site-packages\\sklearn\\ensemble\\_forest.py:637\u001b[39m, in \u001b[36mBaseForest._validate_X_predict\u001b[39m\u001b[34m(self, X)\u001b[39m\n\u001b[32m    634\u001b[39m \u001b[38;5;28;01melse\u001b[39;00m:\n\u001b[32m    635\u001b[39m     ensure_all_finite = \u001b[38;5;28;01mTrue\u001b[39;00m\n\u001b[32m--> \u001b[39m\u001b[32m637\u001b[39m X = \u001b[43mvalidate_data\u001b[49m\u001b[43m(\u001b[49m\n\u001b[32m    638\u001b[39m \u001b[43m    \u001b[49m\u001b[38;5;28;43mself\u001b[39;49m\u001b[43m,\u001b[49m\n\u001b[32m    639\u001b[39m \u001b[43m    \u001b[49m\u001b[43mX\u001b[49m\u001b[43m,\u001b[49m\n\u001b[32m    640\u001b[39m \u001b[43m    \u001b[49m\u001b[43mdtype\u001b[49m\u001b[43m=\u001b[49m\u001b[43mDTYPE\u001b[49m\u001b[43m,\u001b[49m\n\u001b[32m    641\u001b[39m \u001b[43m    \u001b[49m\u001b[43maccept_sparse\u001b[49m\u001b[43m=\u001b[49m\u001b[33;43m\"\u001b[39;49m\u001b[33;43mcsr\u001b[39;49m\u001b[33;43m\"\u001b[39;49m\u001b[43m,\u001b[49m\n\u001b[32m    642\u001b[39m \u001b[43m    \u001b[49m\u001b[43mreset\u001b[49m\u001b[43m=\u001b[49m\u001b[38;5;28;43;01mFalse\u001b[39;49;00m\u001b[43m,\u001b[49m\n\u001b[32m    643\u001b[39m \u001b[43m    \u001b[49m\u001b[43mensure_all_finite\u001b[49m\u001b[43m=\u001b[49m\u001b[43mensure_all_finite\u001b[49m\u001b[43m,\u001b[49m\n\u001b[32m    644\u001b[39m \u001b[43m\u001b[49m\u001b[43m)\u001b[49m\n\u001b[32m    645\u001b[39m \u001b[38;5;28;01mif\u001b[39;00m issparse(X) \u001b[38;5;129;01mand\u001b[39;00m (X.indices.dtype != np.intc \u001b[38;5;129;01mor\u001b[39;00m X.indptr.dtype != np.intc):\n\u001b[32m    646\u001b[39m     \u001b[38;5;28;01mraise\u001b[39;00m \u001b[38;5;167;01mValueError\u001b[39;00m(\u001b[33m\"\u001b[39m\u001b[33mNo support for np.int64 index based sparse matrices\u001b[39m\u001b[33m\"\u001b[39m)\n",
      "\u001b[36mFile \u001b[39m\u001b[32mc:\\Users\\vivek\\anaconda3\\envs\\urban_flood\\Lib\\site-packages\\sklearn\\utils\\validation.py:2929\u001b[39m, in \u001b[36mvalidate_data\u001b[39m\u001b[34m(_estimator, X, y, reset, validate_separately, skip_check_array, **check_params)\u001b[39m\n\u001b[32m   2845\u001b[39m \u001b[38;5;28;01mdef\u001b[39;00m\u001b[38;5;250m \u001b[39m\u001b[34mvalidate_data\u001b[39m(\n\u001b[32m   2846\u001b[39m     _estimator,\n\u001b[32m   2847\u001b[39m     /,\n\u001b[32m   (...)\u001b[39m\u001b[32m   2853\u001b[39m     **check_params,\n\u001b[32m   2854\u001b[39m ):\n\u001b[32m   2855\u001b[39m \u001b[38;5;250m    \u001b[39m\u001b[33;03m\"\"\"Validate input data and set or check feature names and counts of the input.\u001b[39;00m\n\u001b[32m   2856\u001b[39m \n\u001b[32m   2857\u001b[39m \u001b[33;03m    This helper function should be used in an estimator that requires input\u001b[39;00m\n\u001b[32m   (...)\u001b[39m\u001b[32m   2927\u001b[39m \u001b[33;03m        validated.\u001b[39;00m\n\u001b[32m   2928\u001b[39m \u001b[33;03m    \"\"\"\u001b[39;00m\n\u001b[32m-> \u001b[39m\u001b[32m2929\u001b[39m     \u001b[43m_check_feature_names\u001b[49m\u001b[43m(\u001b[49m\u001b[43m_estimator\u001b[49m\u001b[43m,\u001b[49m\u001b[43m \u001b[49m\u001b[43mX\u001b[49m\u001b[43m,\u001b[49m\u001b[43m \u001b[49m\u001b[43mreset\u001b[49m\u001b[43m=\u001b[49m\u001b[43mreset\u001b[49m\u001b[43m)\u001b[49m\n\u001b[32m   2930\u001b[39m     tags = get_tags(_estimator)\n\u001b[32m   2931\u001b[39m     \u001b[38;5;28;01mif\u001b[39;00m y \u001b[38;5;129;01mis\u001b[39;00m \u001b[38;5;28;01mNone\u001b[39;00m \u001b[38;5;129;01mand\u001b[39;00m tags.target_tags.required:\n",
      "\u001b[36mFile \u001b[39m\u001b[32mc:\\Users\\vivek\\anaconda3\\envs\\urban_flood\\Lib\\site-packages\\sklearn\\utils\\validation.py:2787\u001b[39m, in \u001b[36m_check_feature_names\u001b[39m\u001b[34m(estimator, X, reset)\u001b[39m\n\u001b[32m   2784\u001b[39m \u001b[38;5;28;01mif\u001b[39;00m \u001b[38;5;129;01mnot\u001b[39;00m missing_names \u001b[38;5;129;01mand\u001b[39;00m \u001b[38;5;129;01mnot\u001b[39;00m unexpected_names:\n\u001b[32m   2785\u001b[39m     message += \u001b[33m\"\u001b[39m\u001b[33mFeature names must be in the same order as they were in fit.\u001b[39m\u001b[38;5;130;01m\\n\u001b[39;00m\u001b[33m\"\u001b[39m\n\u001b[32m-> \u001b[39m\u001b[32m2787\u001b[39m \u001b[38;5;28;01mraise\u001b[39;00m \u001b[38;5;167;01mValueError\u001b[39;00m(message)\n",
      "\u001b[31mValueError\u001b[39m: The feature names should match those that were passed during fit.\nFeature names unseen at fit time:\n- rain_1h\n- rain_24h\n- rain_3h\n- rain_6h\n- rain_intensity\n"
     ]
    }
   ],
   "source": [
    "import joblib, pandas as pd, json\n",
    "\n",
    "model = joblib.load(\"models/optimized_rf_model_v2.pkl\")\n",
    "with open(\"models/feature_columns.json\") as f: features = json.load(f)\n",
    "\n",
    "sample = pd.DataFrame([\n",
    "    {\"temp\": 27, \"humidity\": 78, \"pressure\": 1008, \"wind_speed\": 8,\n",
    "     \"temp_delta\": 0.5, \"humidity_delta\": 1, \"hour\": 15, \"day\": 20, \"month\": 10, \"year\": 2025,\n",
    "     \"rain_1h\": 0, \"rain_3h\": 0, \"rain_6h\": 0, \"rain_24h\": 0, \"rain_intensity\": 0},\n",
    "\n",
    "    {\"temp\": 25, \"humidity\": 90, \"pressure\": 1000, \"wind_speed\": 12,\n",
    "     \"temp_delta\": -0.2, \"humidity_delta\": 5, \"hour\": 16, \"day\": 20, \"month\": 10, \"year\": 2025,\n",
    "     \"rain_1h\": 1, \"rain_3h\": 3, \"rain_6h\": 6, \"rain_24h\": 10, \"rain_intensity\": 1}\n",
    "]\n",
    ")\n",
    "sample = sample[features]\n",
    "print(model.predict(sample))\n",
    "print(model.predict_proba(sample))\n"
   ]
  },
  {
   "cell_type": "code",
   "execution_count": 4,
   "id": "650fb845",
   "metadata": {},
   "outputs": [
    {
     "name": "stdout",
     "output_type": "stream",
     "text": [
      "Status: 200\n",
      "Response: {\"flood_risk\":0,\"flood_probability\":0.02}\n"
     ]
    }
   ],
   "source": [
    "import requests\n",
    "\n",
    "API_URL = \"http://127.0.0.1:8000/predict_flood\"\n",
    "sample = {\n",
    "    \"temp\": 25.0,\n",
    "    \"humidity\": 2000,\n",
    "    \"pressure\": 1013,\n",
    "    \"wind_speed\": 4,\n",
    "    \"rain_24h\": 2.5,\n",
    "    \"temp_delta\": 0.4,\n",
    "    \"humidity_delta\": -1.2,\n",
    "    \"hour\": 14,\n",
    "    \"day\": 20,\n",
    "    \"month\": 10,\n",
    "    \"year\": 2025\n",
    "}\n",
    "\n",
    "r = requests.post(API_URL, json=sample)\n",
    "print(\"Status:\", r.status_code)\n",
    "print(\"Response:\", r.text)\n"
   ]
  },
  {
   "cell_type": "code",
   "execution_count": null,
   "id": "67f37bdc",
   "metadata": {},
   "outputs": [],
   "source": []
  }
 ],
 "metadata": {
  "kernelspec": {
   "display_name": "urban_flood",
   "language": "python",
   "name": "python3"
  },
  "language_info": {
   "codemirror_mode": {
    "name": "ipython",
    "version": 3
   },
   "file_extension": ".py",
   "mimetype": "text/x-python",
   "name": "python",
   "nbconvert_exporter": "python",
   "pygments_lexer": "ipython3",
   "version": "3.11.13"
  }
 },
 "nbformat": 4,
 "nbformat_minor": 5
}
