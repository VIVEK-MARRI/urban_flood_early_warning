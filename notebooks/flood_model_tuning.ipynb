{
 "cells": [
  {
   "cell_type": "code",
   "execution_count": 27,
   "id": "da72fc08",
   "metadata": {},
   "outputs": [],
   "source": [
    "import pandas as pd\n",
    "import numpy as np\n",
    "from sklearn.model_selection import train_test_split\n",
    "from sklearn.ensemble import RandomForestClassifier\n",
    "from sklearn.metrics import accuracy_score, f1_score, confusion_matrix, classification_report\n",
    "import mlflow\n",
    "import mlflow.sklearn\n",
    "import joblib\n",
    "import matplotlib.pyplot as plt\n",
    "import seaborn as sns\n"
   ]
  },
  {
   "cell_type": "code",
   "execution_count": 28,
   "id": "5fa524d3",
   "metadata": {},
   "outputs": [
    {
     "name": "stdout",
     "output_type": "stream",
     "text": [
      "          Date/Time  Temp_C  Dew Point Temp_C  Rel Hum_%  Wind Speed_km/h  \\\n",
      "0  01-01-2012 00:00    -1.8              -3.9         86                4   \n",
      "1  01-01-2012 01:00    -1.8              -3.7         87                4   \n",
      "2  01-01-2012 02:00    -1.8              -3.4         89                7   \n",
      "3  01-01-2012 03:00    -1.5              -3.2         88                6   \n",
      "4  01-01-2012 04:00    -1.5              -3.3         88                7   \n",
      "\n",
      "   Visibility_km  Press_kPa               Weather  \n",
      "0            8.0     101.24                   Fog  \n",
      "1            8.0     101.24                   Fog  \n",
      "2            4.0     101.26  Freezing Drizzle,Fog  \n",
      "3            4.0     101.27  Freezing Drizzle,Fog  \n",
      "4            4.8     101.23                   Fog  \n",
      "Index(['Date/Time', 'Temp_C', 'Dew Point Temp_C', 'Rel Hum_%',\n",
      "       'Wind Speed_km/h', 'Visibility_km', 'Press_kPa', 'Weather'],\n",
      "      dtype='object')\n"
     ]
    }
   ],
   "source": [
    "import pandas as pd\n",
    "\n",
    "# Load the dataset\n",
    "data = pd.read_csv(\"../data/Weather Dataset.csv\")\n",
    "\n",
    "# Inspect first few rows\n",
    "print(data.head())\n",
    "\n",
    "# Check columns\n",
    "print(data.columns)\n"
   ]
  },
  {
   "cell_type": "code",
   "execution_count": 30,
   "id": "ecc83407",
   "metadata": {},
   "outputs": [
    {
     "name": "stdout",
     "output_type": "stream",
     "text": [
      "            timestamp  temp  Dew Point Temp_C  humidity  wind_speed  \\\n",
      "0 2012-01-01 00:00:00  -1.8              -3.9        86           4   \n",
      "1 2012-01-01 01:00:00  -1.8              -3.7        87           4   \n",
      "2 2012-01-01 02:00:00  -1.8              -3.4        89           7   \n",
      "3 2012-01-01 03:00:00  -1.5              -3.2        88           6   \n",
      "4 2012-01-01 04:00:00  -1.5              -3.3        88           7   \n",
      "\n",
      "   Visibility_km  pressure               Weather  \n",
      "0            8.0    101.24                   Fog  \n",
      "1            8.0    101.24                   Fog  \n",
      "2            4.0    101.26  Freezing Drizzle,Fog  \n",
      "3            4.0    101.27  Freezing Drizzle,Fog  \n",
      "4            4.8    101.23                   Fog  \n",
      "timestamp           datetime64[ns]\n",
      "temp                       float64\n",
      "Dew Point Temp_C           float64\n",
      "humidity                     int64\n",
      "wind_speed                   int64\n",
      "Visibility_km              float64\n",
      "pressure                   float64\n",
      "Weather                     object\n",
      "dtype: object\n"
     ]
    },
    {
     "name": "stderr",
     "output_type": "stream",
     "text": [
      "C:\\Users\\vivek\\AppData\\Local\\Temp\\ipykernel_23436\\2199846415.py:16: UserWarning: The argument 'infer_datetime_format' is deprecated and will be removed in a future version. A strict version of it is now the default, see https://pandas.pydata.org/pdeps/0004-consistent-to-datetime-parsing.html. You can safely remove this argument.\n",
      "  data['timestamp'] = pd.to_datetime(data['timestamp'], infer_datetime_format=True, errors='coerce')\n"
     ]
    }
   ],
   "source": [
    "import pandas as pd\n",
    "\n",
    "# Load dataset\n",
    "data = pd.read_csv(\"../data/Weather Dataset.csv\")\n",
    "\n",
    "# Rename columns for convenience\n",
    "data = data.rename(columns={\n",
    "    'Temp_C': 'temp',\n",
    "    'Rel Hum_%': 'humidity',\n",
    "    'Press_kPa': 'pressure',\n",
    "    'Wind Speed_km/h': 'wind_speed',\n",
    "    'Date/Time': 'timestamp'\n",
    "})\n",
    "\n",
    "# Convert timestamp safely\n",
    "data['timestamp'] = pd.to_datetime(data['timestamp'], infer_datetime_format=True, errors='coerce')\n",
    "\n",
    "# Drop rows with invalid timestamps\n",
    "data = data.dropna(subset=['timestamp'])\n",
    "\n",
    "# Inspect\n",
    "print(data.head())\n",
    "print(data.dtypes)\n"
   ]
  },
  {
   "cell_type": "code",
   "execution_count": 31,
   "id": "5b9d03fc",
   "metadata": {},
   "outputs": [],
   "source": [
    "# Extract hour, minute, second, day, month, year\n",
    "data['hour'] = data['timestamp'].dt.hour\n",
    "data['minute'] = data['timestamp'].dt.minute\n",
    "data['second'] = data['timestamp'].dt.second\n",
    "data['day'] = data['timestamp'].dt.day\n",
    "data['month'] = data['timestamp'].dt.month\n",
    "data['year'] = data['timestamp'].dt.year\n"
   ]
  },
  {
   "cell_type": "code",
   "execution_count": 32,
   "id": "39f4212f",
   "metadata": {},
   "outputs": [],
   "source": [
    "# Temperature and humidity changes from previous row\n",
    "data['temp_delta'] = data['temp'].diff().fillna(0)\n",
    "data['humidity_delta'] = data['humidity'].diff().fillna(0)\n"
   ]
  },
  {
   "cell_type": "code",
   "execution_count": 33,
   "id": "ad6b5afd",
   "metadata": {},
   "outputs": [],
   "source": [
    "# Simple binary rain indicator\n",
    "def rain_flag(weather_desc):\n",
    "    weather_desc = str(weather_desc).lower()\n",
    "    if 'rain' in weather_desc or 'drizzle' in weather_desc or 'snow' in weather_desc:\n",
    "        return 1\n",
    "    return 0\n",
    "\n",
    "data['rain_1h'] = data['Weather'].apply(rain_flag)\n",
    "\n",
    "# Rolling sums for rain over 3h, 6h, 24h\n",
    "data['rain_3h'] = data['rain_1h'].rolling(3).sum().fillna(0)\n",
    "data['rain_6h'] = data['rain_1h'].rolling(6).sum().fillna(0)\n",
    "data['rain_24h'] = data['rain_1h'].rolling(24).sum().fillna(0)\n",
    "\n",
    "# For simplicity, set intensity equal to 1h rain\n",
    "data['rain_intensity'] = data['rain_1h']\n"
   ]
  },
  {
   "cell_type": "code",
   "execution_count": 36,
   "id": "bce9e521",
   "metadata": {},
   "outputs": [
    {
     "name": "stdout",
     "output_type": "stream",
     "text": [
      "✅ Dataset ready for model training!\n"
     ]
    }
   ],
   "source": [
    "feature_columns = [\n",
    "    \"temp\", \"humidity\", \"pressure\", \"wind_speed\",\n",
    "    \"rain_1h\", \"rain_3h\", \"rain_6h\", \"rain_24h\", \"rain_intensity\",\n",
    "    \"temp_delta\", \"humidity_delta\",\n",
    "    \"hour\", \"minute\", \"second\", \"day\", \"month\", \"year\"\n",
    "]\n",
    "\n",
    "processed_data = data[feature_columns]\n",
    "\n",
    "# Save processed dataset\n",
    "processed_data.to_csv(\"../data/processed/weather_processed.csv\", index=False)\n",
    "print(\"✅ Dataset ready for model training!\")\n"
   ]
  },
  {
   "cell_type": "code",
   "execution_count": 37,
   "id": "b5def282",
   "metadata": {},
   "outputs": [
    {
     "name": "stdout",
     "output_type": "stream",
     "text": [
      "✅ Data ready for training:\n",
      "(2764, 17) (692, 17)\n"
     ]
    }
   ],
   "source": [
    "import pandas as pd\n",
    "\n",
    "# Load processed dataset\n",
    "data = pd.read_csv(\"../data/processed/weather_processed.csv\")\n",
    "\n",
    "# Add a simple target column (flood risk) if not already present\n",
    "# For demonstration, let's create a synthetic flood label based on heavy rainfall\n",
    "data['flood_risk'] = ((data['rain_24h'] >= 3) | (data['rain_intensity'] == 1)).astype(int)\n",
    "\n",
    "# Separate features and target\n",
    "X = data.drop(columns=['flood_risk'])\n",
    "y = data['flood_risk']\n",
    "\n",
    "# Train-test split\n",
    "from sklearn.model_selection import train_test_split\n",
    "\n",
    "X_train, X_test, y_train, y_test = train_test_split(\n",
    "    X, y, test_size=0.2, random_state=42, stratify=y\n",
    ")\n",
    "\n",
    "print(\"✅ Data ready for training:\")\n",
    "print(X_train.shape, X_test.shape)\n"
   ]
  },
  {
   "cell_type": "code",
   "execution_count": 38,
   "id": "c48f280e",
   "metadata": {},
   "outputs": [
    {
     "name": "stdout",
     "output_type": "stream",
     "text": [
      "Fitting 3 folds for each of 16 candidates, totalling 48 fits\n",
      "✅ Best hyperparameters: {'max_depth': 8, 'min_samples_leaf': 1, 'min_samples_split': 2, 'n_estimators': 100}\n"
     ]
    }
   ],
   "source": [
    "from sklearn.ensemble import RandomForestClassifier\n",
    "from sklearn.model_selection import GridSearchCV\n",
    "\n",
    "# Define small hyperparameter grid\n",
    "param_grid = {\n",
    "    'n_estimators': [100, 200],\n",
    "    'max_depth': [8, 12],\n",
    "    'min_samples_split': [2, 5],\n",
    "    'min_samples_leaf': [1, 2]\n",
    "}\n",
    "\n",
    "rf = RandomForestClassifier(random_state=42, n_jobs=-1)\n",
    "\n",
    "grid_search = GridSearchCV(\n",
    "    estimator=rf,\n",
    "    param_grid=param_grid,\n",
    "    cv=3,\n",
    "    scoring='f1',\n",
    "    verbose=2,\n",
    "    n_jobs=-1\n",
    ")\n",
    "\n",
    "grid_search.fit(X_train, y_train)\n",
    "\n",
    "best_model = grid_search.best_estimator_\n",
    "print(\"✅ Best hyperparameters:\", grid_search.best_params_)\n"
   ]
  },
  {
   "cell_type": "code",
   "execution_count": 39,
   "id": "149b0ab8",
   "metadata": {},
   "outputs": [
    {
     "name": "stdout",
     "output_type": "stream",
     "text": [
      "Accuracy: 1.0\n",
      "F1 Score: 1.0\n",
      "              precision    recall  f1-score   support\n",
      "\n",
      "           0       1.00      1.00      1.00       383\n",
      "           1       1.00      1.00      1.00       309\n",
      "\n",
      "    accuracy                           1.00       692\n",
      "   macro avg       1.00      1.00      1.00       692\n",
      "weighted avg       1.00      1.00      1.00       692\n",
      "\n"
     ]
    },
    {
     "data": {
      "image/png": "[encoded data removed]",
      "text/plain": [
       "<Figure size 640x480 with 2 Axes>"
      ]
     },
     "metadata": {},
     "output_type": "display_data"
    }
   ],
   "source": [
    "from sklearn.metrics import accuracy_score, f1_score, confusion_matrix, classification_report\n",
    "import seaborn as sns\n",
    "import matplotlib.pyplot as plt\n",
    "\n",
    "y_pred = best_model.predict(X_test)\n",
    "acc = accuracy_score(y_test, y_pred)\n",
    "f1 = f1_score(y_test, y_pred)\n",
    "\n",
    "print(\"Accuracy:\", acc)\n",
    "print(\"F1 Score:\", f1)\n",
    "print(classification_report(y_test, y_pred))\n",
    "\n",
    "# Confusion Matrix\n",
    "cm = confusion_matrix(y_test, y_pred)\n",
    "sns.heatmap(cm, annot=True, fmt='d', cmap='Blues')\n",
    "plt.title(\"Confusion Matrix - Optimized RF\")\n",
    "plt.xlabel(\"Predicted\")\n",
    "plt.ylabel(\"Actual\")\n",
    "plt.show()\n"
   ]
  },
  {
   "cell_type": "code",
   "execution_count": 40,
   "id": "d3cf20f3",
   "metadata": {},
   "outputs": [
    {
     "name": "stdout",
     "output_type": "stream",
     "text": [
      "✅ Optimized model logged in MLflow!\n"
     ]
    },
    {
     "name": "stderr",
     "output_type": "stream",
     "text": [
      "c:\\Users\\vivek\\anaconda3\\envs\\urban_flood\\Lib\\site-packages\\_distutils_hack\\__init__.py:15: UserWarning: Distutils was imported before Setuptools, but importing Setuptools also replaces the `distutils` module in `sys.modules`. This may lead to undesirable behaviors or errors. To avoid these issues, avoid using distutils directly, ensure that setuptools is installed in the traditional way (e.g. not an editable install), and/or make sure that setuptools is always imported before distutils.\n",
      "  warnings.warn(\n",
      "c:\\Users\\vivek\\anaconda3\\envs\\urban_flood\\Lib\\site-packages\\_distutils_hack\\__init__.py:30: UserWarning: Setuptools is replacing distutils. Support for replacing an already imported distutils is deprecated. In the future, this condition will fail. Register concerns at https://github.com/pypa/setuptools/issues/new?template=distutils-deprecation.yml\n",
      "  warnings.warn(\n"
     ]
    }
   ],
   "source": [
    "import mlflow\n",
    "import mlflow.sklearn\n",
    "\n",
    "mlflow.set_experiment(\"Flood_Risk_Prediction\")\n",
    "\n",
    "with mlflow.start_run(run_name=\"Optimized_RF_Model\"):\n",
    "    mlflow.log_params(grid_search.best_params_)\n",
    "    mlflow.log_metric(\"accuracy\", acc)\n",
    "    mlflow.log_metric(\"f1_score\", f1)\n",
    "    mlflow.sklearn.log_model(best_model, \"optimized_rf_model\")\n",
    "    \n",
    "print(\"✅ Optimized model logged in MLflow!\")\n"
   ]
  },
  {
   "cell_type": "code",
   "execution_count": 42,
   "id": "de57b54e",
   "metadata": {},
   "outputs": [
    {
     "name": "stdout",
     "output_type": "stream",
     "text": [
      "✅ Optimized model saved as models/optimized_rf_model.pkl\n",
      "✅ Feature columns saved!\n"
     ]
    }
   ],
   "source": [
    "import joblib\n",
    "import json\n",
    "\n",
    "# Save model for API\n",
    "joblib.dump(best_model, \"../models/optimized_rf_model.pkl\")\n",
    "print(\"✅ Optimized model saved as models/optimized_rf_model.pkl\")\n",
    "\n",
    "# Save feature columns\n",
    "feature_columns = X.columns.tolist()\n",
    "with open(\"../models/feature_columns.json\", \"w\") as f:\n",
    "    json.dump(feature_columns, f)\n",
    "print(\"✅ Feature columns saved!\")\n"
   ]
  },
  {
   "cell_type": "code",
   "execution_count": null,
   "id": "7fbfee56",
   "metadata": {},
   "outputs": [],
   "source": []
  }
 ],
 "metadata": {
  "kernelspec": {
   "display_name": "urban_flood",
   "language": "python",
   "name": "python3"
  },
  "language_info": {
   "codemirror_mode": {
    "name": "ipython",
    "version": 3
   },
   "file_extension": ".py",
   "mimetype": "text/x-python",
   "name": "python",
   "nbconvert_exporter": "python",
   "pygments_lexer": "ipython3",
   "version": "3.11.13"
  }
 },
 "nbformat": 4,
 "nbformat_minor": 5
}
